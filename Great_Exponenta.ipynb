{
 "cells": [
  {
   "cell_type": "code",
   "execution_count": 1,
   "metadata": {},
   "outputs": [
    {
     "name": "stdout",
     "output_type": "stream",
     "text": [
      "148.4131078683383 Полученное через ряд Тейлора\n",
      "148.4131591025766 Библиотечное\n",
      "(-1.977736931536959e+21-5.566326935957606e+21j) Полученное через ряд Тейлора(Комплекное)\n",
      "(-1.3660570907282237-2.3500944925261606j) Библиотечное(Комплекное)\n",
      "<function my_exp at 0x03A34B68> <numpy.vectorize object at 0x03B354D8>\n"
     ]
    },
    {
     "data": {
      "image/png": "[encoded data removed]",
      "text/plain": [
       "<Figure size 432x288 with 1 Axes>"
      ]
     },
     "metadata": {
      "needs_background": "light"
     },
     "output_type": "display_data"
    }
   ],
   "source": [
    "import math\n",
    "ITERATIONS = 20\n",
    "def my_exp(x):\n",
    "    x_pow = 1\n",
    "    multiplier = 1\n",
    "    partial_sum = 1 \n",
    "    for n in range(1,ITERATIONS):\n",
    "        x_pow *= x \n",
    "        multiplier *= 1/n \n",
    "        partial_sum += x_pow * multiplier \n",
    "    return partial_sum\n",
    "\n",
    "print(my_exp(5),\"Полученное через ряд Тейлора\")\n",
    "print(math.exp(5),\"Библиотечное\")\n",
    "\n",
    "import cmath \n",
    "complex_number =  1 + 111j\n",
    "print(my_exp(complex_number),\"Полученное через ряд Тейлора(Комплекное)\")\n",
    "print(cmath.exp(complex_number),\"Библиотечное(Комплекное)\")\n",
    "\n",
    "\n",
    "import matplotlib.pyplot as plt\n",
    "import numpy as np\n",
    "\n",
    "E = np.vectorize(my_exp)\n",
    "print(my_exp, E)\n",
    "\n",
    "angles = np.r_[-10:10:0.01]\n",
    "plt.plot(angles, np.exp(angles))\n",
    "plt.plot(angles, E(angles))\n",
    "plt.show()\n"
   ]
  },
  {
   "cell_type": "code",
   "execution_count": null,
   "metadata": {},
   "outputs": [],
   "source": []
  }
 ],
 "metadata": {
  "kernelspec": {
   "display_name": "Python 3",
   "language": "python",
   "name": "python3"
  },
  "language_info": {
   "codemirror_mode": {
    "name": "ipython",
    "version": 3
   },
   "file_extension": ".py",
   "mimetype": "text/x-python",
   "name": "python",
   "nbconvert_exporter": "python",
   "pygments_lexer": "ipython3",
   "version": "3.8.6"
  }
 },
 "nbformat": 4,
 "nbformat_minor": 4
}
